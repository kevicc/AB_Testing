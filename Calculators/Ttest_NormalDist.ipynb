{
 "cells": [
  {
   "cell_type": "markdown",
   "id": "b0c103b0-7344-4d77-a9f9-31828b80b1a9",
   "metadata": {},
   "source": [
    "<h1>T-test Mean Comparison with Normal Distribution</h1>"
   ]
  },
  {
   "cell_type": "markdown",
   "id": "a019a51a-d6ea-40c3-9f70-0501cc7daf29",
   "metadata": {},
   "source": [
    "<h3>About</h3>\n",
    "https://www.statsmodels.org/dev/generated/statsmodels.stats.weightstats.ttest_ind.html<br>\n",
    "statsmodels.stats.weightstats.ttest_ind(x1, x2, alternative='two-sided', usevar='pooled', weights=(None, None), value=0)"
   ]
  },
  {
   "cell_type": "markdown",
   "id": "7731994e-7908-406d-a1b2-639b3d422f1e",
   "metadata": {},
   "source": [
    "The alternative hypothesis, H1, has to be one of the following<br>\n",
    "‘two-sided’ (default): H1: difference in means not equal to value<br>\n",
    "‘larger’ : H1: difference in means larger than value<br>\n",
    "‘smaller’ : H1: difference in means smaller than value<br><br>\n",
    "usevarstr, ‘pooled’ or ‘unequal’<br>\n",
    "If pooled, then the standard deviation of the samples is assumed to be the same. If unequal, then Welch ttest with <br> Satterthwait degrees of freedom is used<br><br>\n",
    "value: difference between the means under the Null hypothesis.<br><br>\n",
    "Returns:<br>\n",
    "tstat float: test statistic<br>\n",
    "pvalue float: pvalue of the t-test<br>\n",
    "df int or float:degrees of freedom used in the t-test"
   ]
  },
  {
   "cell_type": "code",
   "execution_count": 242,
   "id": "6b416f81-f805-4cf5-b3c9-587947a28d8a",
   "metadata": {},
   "outputs": [],
   "source": [
    "import statsmodels \n",
    "from statsmodels.stats import weightstats as ws\n",
    "import pandas as pd \n",
    "import random\n",
    "import numpy as np\n",
    "import scipy as sp\n",
    "#import plotly.express as px\n",
    "import matplotlib\n",
    "from matplotlib import pyplot as plt"
   ]
  },
  {
   "cell_type": "markdown",
   "id": "0e54518d-12d3-4e6c-a6c4-88ff65b52c6a",
   "metadata": {},
   "source": [
    "<h3>Functions</h3>"
   ]
  },
  {
   "cell_type": "code",
   "execution_count": 288,
   "id": "691732df-555c-4bc5-b516-a4b122b5f98f",
   "metadata": {},
   "outputs": [],
   "source": [
    "def ttest(column1, column2, alternative, usevar, weights, value, alpha):\n",
    "    results = ws.ttest_ind(np.array(column1), np.array(column2), \n",
    "             alternative=alternative, usevar=usevar, \n",
    "             weights=weights, value=value)\n",
    "    if alternative == 'two-sided' and results[1] < alpha/2:\n",
    "        answer = 'Yes, Significant'\n",
    "    elif alternative != 'two-sided' and results[1] < alpha:\n",
    "        answer = 'Yes, Significant'\n",
    "    else:\n",
    "        answer = 'No, Not significant'\n",
    "    return print('P-value:', results[1],'\\nT-stat:', results[0],'\\ndf:', results[2], '\\nAnswer:',answer)\n",
    "\n",
    "def normality(column):\n",
    "    shap = sp.stats.shapiro(np.array(column))\n",
    "    if shap.pvalue >= 0.05: #null = normal, if cannot reject then assume normal\n",
    "        dist = 'Normal'\n",
    "    else:\n",
    "        dist = 'Not normal'\n",
    "    return print(dist, 'P-value:', shap.pvalue)\n",
    "\n",
    "def equalvariances(column1,column2):\n",
    "    lev = sp.stats.levene(np.array(column1),np.array(column2))\n",
    "    if lev.pvalue >= 0.05: #null = normal, if cannot reject then assume normal\n",
    "        comparison = 'Equal'\n",
    "    else:\n",
    "        comparison = 'Not equal'\n",
    "    return print(comparison, 'P-value:', lev.pvalue)"
   ]
  },
  {
   "cell_type": "markdown",
   "id": "73c0081c-1cae-4cc6-adcc-d3ba7a38c8a3",
   "metadata": {},
   "source": [
    "<h3>Sample Tables</h3>"
   ]
  },
  {
   "cell_type": "code",
   "execution_count": 289,
   "id": "da625371-830b-401f-9768-e6aab50e8785",
   "metadata": {},
   "outputs": [
    {
     "name": "stdout",
     "output_type": "stream",
     "text": [
      "                An           Bn\n",
      "count  1000.000000  1000.000000\n",
      "mean     49.091838    50.952249\n",
      "std      16.335423    17.265957\n",
      "min      -8.745188    -6.490880\n",
      "25%      38.475424    39.148187\n",
      "50%      49.390232    51.370180\n",
      "75%      60.688176    62.620974\n",
      "max      95.540552   107.378045\n"
     ]
    },
    {
     "data": {
      "image/png": "[encoded data removed]",
      "text/plain": [
       "<Figure size 432x288 with 1 Axes>"
      ]
     },
     "metadata": {
      "needs_background": "light"
     },
     "output_type": "display_data"
    }
   ],
   "source": [
    "#normal \n",
    "mu, sigma = 50, 17 \n",
    "colAn = np.random.normal(mu, sigma, 1000)\n",
    "colBn = np.random.normal(mu, sigma, 1000)\n",
    "\n",
    "unionedarrayn = np.column_stack((colAn,colBn))\n",
    "dfn = pd.DataFrame(unionedarrayn) \n",
    "headersn = ['An','Bn']\n",
    "dfn.columns= headersn\n",
    "print(dfn.describe())\n",
    "\n",
    "#plotly doesnt show on git\n",
    "#fig = px.histogram(dfn, x='An', title='Normal Distribution')\n",
    "#fig.show()\n",
    "\n",
    "n, bins, patches = plt.hist(dfn['An'])\n",
    "plt.title('Normal Distribution')\n",
    "plt.show()"
   ]
  },
  {
   "cell_type": "code",
   "execution_count": 290,
   "id": "395df310-e028-4cc4-a987-51d7524eb5aa",
   "metadata": {},
   "outputs": [
    {
     "name": "stdout",
     "output_type": "stream",
     "text": [
      "                 A            B\n",
      "count  1000.000000  1000.000000\n",
      "mean     51.949000    50.561000\n",
      "std      29.032556    29.452771\n",
      "min       1.000000     1.000000\n",
      "25%      27.000000    24.000000\n",
      "50%      51.000000    50.000000\n",
      "75%      78.000000    76.000000\n",
      "max     100.000000   100.000000\n"
     ]
    },
    {
     "data": {
      "image/png": "[encoded data removed]",
      "text/plain": [
       "<Figure size 432x288 with 1 Axes>"
      ]
     },
     "metadata": {
      "needs_background": "light"
     },
     "output_type": "display_data"
    }
   ],
   "source": [
    "# uniform \n",
    "colA = []\n",
    "colB = []\n",
    "for i in range(0,1000):\n",
    "    nA = random.randint(1,100)\n",
    "    colA.append(nA)\n",
    "    nB = random.randint(1,100)\n",
    "    colB.append(nB)\n",
    "\n",
    "unionedarray = np.column_stack((colA,colB))\n",
    "df = pd.DataFrame(unionedarray) \n",
    "headers = ['A','B']\n",
    "df.columns= headers\n",
    "print(df.describe())\n",
    "\n",
    "#plotly doesnt show on git\n",
    "#fig = px.histogram(df, x='A', title='Uniform Distribution')\n",
    "#fig.show()\n",
    "\n",
    "n, bins, patches = plt.hist(df['A'])\n",
    "plt.title('Uniform Distribution')\n",
    "plt.show()"
   ]
  },
  {
   "cell_type": "code",
   "execution_count": 291,
   "id": "c611c4b9-001b-40ac-8b5a-8d4d1029ee2e",
   "metadata": {},
   "outputs": [
    {
     "name": "stdout",
     "output_type": "stream",
     "text": [
      "                Az           Bz\n",
      "count  1000.000000  1000.000000\n",
      "mean     31.391000    30.582000\n",
      "std      31.766637    31.267698\n",
      "min       1.000000     1.000000\n",
      "25%       6.000000     5.000000\n",
      "50%      10.500000    10.500000\n",
      "75%      57.000000    57.000000\n",
      "max     100.000000   100.000000\n"
     ]
    },
    {
     "data": {
      "image/png": "[encoded data removed]",
      "text/plain": [
       "<Figure size 432x288 with 1 Axes>"
      ]
     },
     "metadata": {
      "needs_background": "light"
     },
     "output_type": "display_data"
    }
   ],
   "source": [
    "#neither\n",
    "colAz = []\n",
    "colBz = []\n",
    "for i in range(0,500):\n",
    "    nAz = random.randint(1,10)\n",
    "    nAz2 = random.randint(11,100)\n",
    "    colAz.append(nAz)\n",
    "    colAz.append(nAz2)\n",
    "    nBz = random.randint(1,10)\n",
    "    nBz2 = random.randint(11,100)\n",
    "    colBz.append(nBz)\n",
    "    colBz.append(nBz2)\n",
    "\n",
    "unionedarrayz = np.column_stack((colAz,colBz))\n",
    "dfz = pd.DataFrame(unionedarrayz) \n",
    "headers = ['Az','Bz']\n",
    "dfz.columns= headers\n",
    "print(dfz.describe())\n",
    "\n",
    "#plotly doesnt show on git\n",
    "#fig = px.histogram(dfz, x='Az', title='Skewed Distribution')\n",
    "#fig.show()\n",
    "\n",
    "n, bins, patches = plt.hist(dfz['Az'])\n",
    "plt.title('Skewed Distribution')\n",
    "plt.show()"
   ]
  },
  {
   "cell_type": "markdown",
   "id": "03d953e3-0770-497d-b24a-fb4985cb8265",
   "metadata": {},
   "source": [
    "<h3>Output</h3>"
   ]
  },
  {
   "cell_type": "markdown",
   "id": "c24110bb-b965-4bb0-92f4-93a422d61cd3",
   "metadata": {},
   "source": [
    "<h5>Are Columns Normally Distributed? Check 1st Column in Dataframes</h5>"
   ]
  },
  {
   "cell_type": "code",
   "execution_count": 292,
   "id": "12b118c0-6baa-4699-9bca-2ee7a0ced6ed",
   "metadata": {},
   "outputs": [
    {
     "name": "stdout",
     "output_type": "stream",
     "text": [
      "Normal P-value: 0.1930091679096222\n",
      "Not normal P-value: 2.34410395908605e-17\n",
      "Not normal P-value: 8.208974285902431e-32\n"
     ]
    }
   ],
   "source": [
    "normality(dfn['An'])\n",
    "normality(df['A'])\n",
    "normality(dfz['Az'])"
   ]
  },
  {
   "cell_type": "markdown",
   "id": "dd3f2c26-d3d6-4f32-8704-d399ef828324",
   "metadata": {},
   "source": [
    "<h5>Using 1st Sample Table, Are Variances the Same?</h5>"
   ]
  },
  {
   "cell_type": "code",
   "execution_count": 293,
   "id": "363c9ffc-2334-4a04-9300-34a1f0cc84a2",
   "metadata": {},
   "outputs": [
    {
     "name": "stdout",
     "output_type": "stream",
     "text": [
      "Equal P-value: 0.11701709408949755\n"
     ]
    }
   ],
   "source": [
    "equalvariances(dfn['An'],dfn['Bn'])"
   ]
  },
  {
   "cell_type": "markdown",
   "id": "dfc8f4c7-67c6-418b-a882-4cc8aa3317bf",
   "metadata": {},
   "source": [
    "<h5>Using 1st Sample Table, Is A Greater than B?</h5>"
   ]
  },
  {
   "cell_type": "code",
   "execution_count": 296,
   "id": "40e9795e-0a82-4de9-a88e-77632cebb681",
   "metadata": {},
   "outputs": [
    {
     "name": "stdout",
     "output_type": "stream",
     "text": [
      "P-value: 0.9932996686401496 \n",
      "T-stat: -2.4751435970603333 \n",
      "df: 1998.0 \n",
      "Answer: No, Not significant\n"
     ]
    }
   ],
   "source": [
    "ttest(dfn['An'], dfn['Bn'], 'larger', 'pooled', (None, None), 0, 0.05)"
   ]
  },
  {
   "cell_type": "markdown",
   "id": "814a1ba4-1b23-49dd-b3ab-0a03b71438e1",
   "metadata": {},
   "source": [
    "<h5>Using 1st Sample Table, Is A Smaller than B?</h5>"
   ]
  },
  {
   "cell_type": "code",
   "execution_count": 299,
   "id": "ac67b41b-70aa-4047-a476-c101e1cf5cab",
   "metadata": {},
   "outputs": [
    {
     "name": "stdout",
     "output_type": "stream",
     "text": [
      "P-value: 0.006700331359850312 \n",
      "T-stat: -2.4751435970603333 \n",
      "df: 1998.0 \n",
      "Answer: Yes, Significant\n"
     ]
    }
   ],
   "source": [
    "ttest(dfn['An'], dfn['Bn'], 'smaller', 'pooled', (None, None), 0, 0.05)"
   ]
  },
  {
   "cell_type": "markdown",
   "id": "c7a124c6-4a3d-4e07-8a65-b4a3f0d8f170",
   "metadata": {},
   "source": [
    "<h5>Using 1st Sample Table, Is B Different to A (Unequal)?</h5>"
   ]
  },
  {
   "cell_type": "code",
   "execution_count": 300,
   "id": "0ea73b3a-2739-4b06-bfb3-c6d08314c813",
   "metadata": {},
   "outputs": [
    {
     "name": "stdout",
     "output_type": "stream",
     "text": [
      "P-value: 0.013400662719700624 \n",
      "T-stat: -2.4751435970603333 \n",
      "df: 1998.0 \n",
      "Answer: Yes, Significant\n"
     ]
    }
   ],
   "source": [
    "ttest(dfn['An'], dfn['Bn'], 'two-sided', 'pooled', (None, None), 0, 0.05)"
   ]
  },
  {
   "cell_type": "code",
   "execution_count": null,
   "id": "40d25bf1-ec7b-4991-8b0b-d63c35152a94",
   "metadata": {},
   "outputs": [],
   "source": []
  }
 ],
 "metadata": {
  "kernelspec": {
   "display_name": "Python 3 (ipykernel)",
   "language": "python",
   "name": "python3"
  },
  "language_info": {
   "codemirror_mode": {
    "name": "ipython",
    "version": 3
   },
   "file_extension": ".py",
   "mimetype": "text/x-python",
   "name": "python",
   "nbconvert_exporter": "python",
   "pygments_lexer": "ipython3",
   "version": "3.7.4"
  }
 },
 "nbformat": 4,
 "nbformat_minor": 5
}
