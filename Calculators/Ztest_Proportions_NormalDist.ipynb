{
 "cells": [
  {
   "cell_type": "markdown",
   "id": "b0c103b0-7344-4d77-a9f9-31828b80b1a9",
   "metadata": {},
   "source": [
    "<h1>Z-test Proportion Comparison with Normal Distribution</h1>"
   ]
  },
  {
   "cell_type": "markdown",
   "id": "a019a51a-d6ea-40c3-9f70-0501cc7daf29",
   "metadata": {
    "tags": []
   },
   "source": [
    "<h3>About</h3>\n",
    "https://www.statsmodels.org/devel/generated/statsmodels.stats.proportion.proportions_ztest.html<br>\n",
    "statsmodels.stats.proportion.proportions_ztest(count, nobs, value=None, alternative='two-sided', prop_var=False)<br><br>\n",
    "Assumes normality and proportion of successes greater than 5"
   ]
  },
  {
   "cell_type": "markdown",
   "id": "7731994e-7908-406d-a1b2-639b3d422f1e",
   "metadata": {},
   "source": [
    "count{int, array_like}<br>\n",
    "the number of successes in nobs trials. If this is array_like, then the assumption is that this represents the number of successes for each independent sample<br><br>\n",
    "nobs{int, array_like}<br>\n",
    "the number of trials or observations, with the same length as count.<br><br>\n",
    "value float, array_like or None, optional<br>\n",
    "This is the value of the null hypothesis equal to the proportion in the case of a one sample test. In the case of a two-sample test, the null hypothesis is that prop[0] - prop[1] = value, where prop is the proportion in the two samples. If not provided value = 0 and the null is prop[0] = prop[1]<br><br>\n",
    "alternativestr in [‘two-sided’, ‘smaller’, ‘larger’]<br>\n",
    "The alternative hypothesis can be either two-sided or one of the one- sided tests, smaller means that the alternative hypothesis is prop < value and larger means prop > value. In the two sample test, smaller means that the alternative hypothesis is p1 < p2 and larger means p1 > p2 where p1 is the proportion of the first sample and p2 of the second one.<br><br>\n",
    "prop_var False or float in (0, 1)<br>\n",
    "If prop_var is false, then the variance of the proportion estimate is calculated based on the sample proportion. Alternatively, a proportion can be specified to calculate this variance. Common use case is to use the proportion under the Null hypothesis to specify the variance of the proportion estimate.<br><br>\n",
    "Returns:<br>\n",
    "zstat float: test statistic for the z-test<br>\n",
    "p-value float: p-value for the z-test"
   ]
  },
  {
   "cell_type": "code",
   "execution_count": 308,
   "id": "6b416f81-f805-4cf5-b3c9-587947a28d8a",
   "metadata": {},
   "outputs": [],
   "source": [
    "import statsmodels \n",
    "from statsmodels.stats.proportion import proportions_ztest, proportion_confint\n",
    "import matplotlib\n",
    "from matplotlib import pyplot as plt"
   ]
  },
  {
   "cell_type": "markdown",
   "id": "0e54518d-12d3-4e6c-a6c4-88ff65b52c6a",
   "metadata": {},
   "source": [
    "<h3>Function</h3>"
   ]
  },
  {
   "cell_type": "code",
   "execution_count": 523,
   "id": "691732df-555c-4bc5-b516-a4b122b5f98f",
   "metadata": {},
   "outputs": [],
   "source": [
    "def prop(converted_control, n_control, \n",
    "         converted_treatment, n_treatment, \n",
    "         alternative,\n",
    "         alpha):\n",
    "    count = [converted_control, converted_treatment]\n",
    "    nobs = [n_control, n_treatment]\n",
    "    results = proportions_ztest(count, nobs, 0, alternative, False)\n",
    "    \n",
    "    cconv = converted_control/n_control\n",
    "    tconv = converted_treatment/n_treatment\n",
    "\n",
    "    if alternative == 'two-sided' and results[1] < alpha/2:\n",
    "        answer = 'Yes, Significant'\n",
    "    elif alternative != 'two-sided' and results[1] < alpha:\n",
    "        answer = 'Yes, Significant'\n",
    "    else:\n",
    "        answer = 'No, Not Significant'\n",
    "        \n",
    "    (lower_con, lower_treat), (upper_con, upper_treat) = proportion_confint(count, nobs, alpha)\n",
    "    \n",
    "    return print('P-value:', results[1],'\\nZ-stat:', results[0],'\\nAnswer:',answer,\n",
    "                '\\n\\nControl conversion:',round(cconv*100,2),'%',\n",
    "                 '\\nTreatment conversion:', round(tconv*100,2),'%',\n",
    "                 '\\nDifference of treatment vs control:', round(((tconv-cconv)/cconv)*100,2),'%',\n",
    "                 '\\nConfidence interval', (1-alpha)*100,'th percentile for control group:', \n",
    "                     round(lower_con*100,4), '% to', round(upper_con*100,4),'%',\n",
    "                 '\\nConfidence interval', (1-alpha)*100,'th percentile for treatment group:', \n",
    "                     round(lower_treat*100,4), '% to', round(upper_treat*100,4),'%'\n",
    "                )"
   ]
  },
  {
   "cell_type": "markdown",
   "id": "73c0081c-1cae-4cc6-adcc-d3ba7a38c8a3",
   "metadata": {},
   "source": [
    "<h3>Data Input of Results</h3>"
   ]
  },
  {
   "cell_type": "code",
   "execution_count": 524,
   "id": "da625371-830b-401f-9768-e6aab50e8785",
   "metadata": {},
   "outputs": [],
   "source": [
    "converted_control = 445\n",
    "n_control = 1000\n",
    "converted_treatment = 335\n",
    "n_treatment = 1000"
   ]
  },
  {
   "cell_type": "markdown",
   "id": "857f9762-d702-41cd-a7f3-7bc1d2ff63d4",
   "metadata": {},
   "source": [
    "<h3>Visualize Results</h3>"
   ]
  },
  {
   "cell_type": "code",
   "execution_count": 525,
   "id": "f511e97e-cb55-4859-8f00-ce9b44484988",
   "metadata": {},
   "outputs": [
    {
     "name": "stdout",
     "output_type": "stream",
     "text": [
      "Control size: 1000 Treatment size: 1000\n"
     ]
    },
    {
     "data": {
      "image/png": "[encoded data removed]",
      "text/plain": [
       "<Figure size 432x288 with 1 Axes>"
      ]
     },
     "metadata": {
      "needs_background": "light"
     },
     "output_type": "display_data"
    }
   ],
   "source": [
    "details = [converted_control/n_control, converted_treatment/n_treatment]\n",
    "names = ('Control','Treatment')\n",
    "\n",
    "fig = plt.figure()\n",
    "\n",
    "y_pos = np.arange(len(names))\n",
    "ax = fig.add_axes([0,0,1,0.5])\n",
    "\n",
    "hbars = ax.barh(y_pos, details, align='center')\n",
    "labels = [f\"{round(100*a,2)}%\" for a in details]\n",
    "ax.bar_label(hbars, fmt='%g',label_type='center', labels = labels)\n",
    "\n",
    "ax.barh(names,details, color=['LemonChiffon','LightSkyBlue'], edgecolor='black')\n",
    "\n",
    "plt.title('Group Conversion')\n",
    "\n",
    "print('Control size:', n_control,'Treatment size:',n_treatment)\n",
    "plt.show()"
   ]
  },
  {
   "cell_type": "markdown",
   "id": "03d953e3-0770-497d-b24a-fb4985cb8265",
   "metadata": {},
   "source": [
    "<h3>Output</h3>"
   ]
  },
  {
   "cell_type": "markdown",
   "id": "a71d5579-836f-43bb-8c9c-8468a075cc89",
   "metadata": {},
   "source": [
    "<h5> Is Treatment Conversion Different to Control Conversion (Unequal)?</h5>"
   ]
  },
  {
   "cell_type": "code",
   "execution_count": 526,
   "id": "12b118c0-6baa-4699-9bca-2ee7a0ced6ed",
   "metadata": {},
   "outputs": [
    {
     "name": "stdout",
     "output_type": "stream",
     "text": [
      "P-value: 4.5852584678020886e-07 \n",
      "Z-stat: 5.042901278005128 \n",
      "Answer: Yes, Significant \n",
      "\n",
      "Control conversion: 44.5 % \n",
      "Treatment conversion: 33.5 % \n",
      "Difference of treatment vs control: -24.72 % \n",
      "Confidence interval 95.0 th percentile for control group: 41.4198 % to 47.5802 % \n",
      "Confidence interval 95.0 th percentile for treatment group: 30.5746 % to 36.4254 %\n"
     ]
    }
   ],
   "source": [
    "alternative = 'two-sided'\n",
    "alpha = 0.05\n",
    "prop(converted_control, n_control,converted_treatment, n_treatment, alternative, alpha)"
   ]
  },
  {
   "cell_type": "markdown",
   "id": "9c637d12-ac65-412c-949f-34ac772d3570",
   "metadata": {
    "tags": []
   },
   "source": [
    "<h5> Is Treatment Conversion Less Than Control Conversion? Control > Treatment</h5>"
   ]
  },
  {
   "cell_type": "code",
   "execution_count": 527,
   "id": "8c9545c9-b2ef-43e7-93e4-be8a20a0731d",
   "metadata": {
    "tags": []
   },
   "outputs": [
    {
     "name": "stdout",
     "output_type": "stream",
     "text": [
      "P-value: 2.2926292339010443e-07 \n",
      "Z-stat: 5.042901278005128 \n",
      "Answer: Yes, Significant \n",
      "\n",
      "Control conversion: 44.5 % \n",
      "Treatment conversion: 33.5 % \n",
      "Difference of treatment vs control: -24.72 % \n",
      "Confidence interval 95.0 th percentile for control group: 41.4198 % to 47.5802 % \n",
      "Confidence interval 95.0 th percentile for treatment group: 30.5746 % to 36.4254 %\n"
     ]
    }
   ],
   "source": [
    "alternative = 'larger'\n",
    "alpha = 0.05\n",
    "prop(converted_control, n_control, converted_treatment, n_treatment, alternative, alpha)"
   ]
  },
  {
   "cell_type": "markdown",
   "id": "0034e108-1b1c-48e7-99d5-8b0d7ac29148",
   "metadata": {},
   "source": [
    "<h5> Is Treatment Conversion Greater Than Control Conversion? Control < Treatment</h5>"
   ]
  },
  {
   "cell_type": "code",
   "execution_count": 528,
   "id": "95504f20-5bb5-4ffa-a182-9d2b8f216a3d",
   "metadata": {},
   "outputs": [
    {
     "name": "stdout",
     "output_type": "stream",
     "text": [
      "P-value: 0.9999997707370766 \n",
      "Z-stat: 5.042901278005128 \n",
      "Answer: No, Not Significant \n",
      "\n",
      "Control conversion: 44.5 % \n",
      "Treatment conversion: 33.5 % \n",
      "Difference of treatment vs control: -24.72 % \n",
      "Confidence interval 95.0 th percentile for control group: 41.4198 % to 47.5802 % \n",
      "Confidence interval 95.0 th percentile for treatment group: 30.5746 % to 36.4254 %\n"
     ]
    }
   ],
   "source": [
    "alternative = 'smaller'\n",
    "alpha = 0.05\n",
    "prop(converted_control, n_control, converted_treatment, n_treatment, alternative, alpha)"
   ]
  }
 ],
 "metadata": {
  "kernelspec": {
   "display_name": "Python 3 (ipykernel)",
   "language": "python",
   "name": "python3"
  },
  "language_info": {
   "codemirror_mode": {
    "name": "ipython",
    "version": 3
   },
   "file_extension": ".py",
   "mimetype": "text/x-python",
   "name": "python",
   "nbconvert_exporter": "python",
   "pygments_lexer": "ipython3",
   "version": "3.7.4"
  }
 },
 "nbformat": 4,
 "nbformat_minor": 5
}
